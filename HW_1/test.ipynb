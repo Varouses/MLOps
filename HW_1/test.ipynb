{
 "cells": [
  {
   "cell_type": "code",
   "execution_count": 47,
   "metadata": {},
   "outputs": [
    {
     "name": "stdout",
     "output_type": "stream",
     "text": [
      "<Response [200]> {\n",
      "  \"Classification\": [\n",
      "    \"LogReg\",\n",
      "    \"RF\"\n",
      "  ],\n",
      "  \"Regression\": [\n",
      "    \"LinReg\",\n",
      "    \"Lasso\"\n",
      "  ]\n",
      "}\n",
      "\n"
     ]
    }
   ],
   "source": [
    "# Проверяем вывод всех классов для обучения\n",
    "import requests\n",
    "\n",
    "base_root = 'http://127.0.0.1:5000/'\n",
    "headers = {\"accept\": \"application/json\"}\n",
    "\n",
    "# Запрос для получения списка моделей\n",
    "response = requests.get(f'{base_root}/classes', headers=headers)\n",
    "print(response, response.text)"
   ]
  },
  {
   "cell_type": "code",
   "execution_count": 48,
   "metadata": {},
   "outputs": [
    {
     "name": "stdout",
     "output_type": "stream",
     "text": [
      "<Response [200]> {\n",
      "  \"message\": \"Model Default linear regression 1 was successfully created.\"\n",
      "}\n",
      "\n"
     ]
    }
   ],
   "source": [
    "# Проверяем обучение модели\n",
    "import json\n",
    "import requests\n",
    "\n",
    "base_root = 'http://127.0.0.1:5000/'\n",
    "headers = {\"accept\": \"application/json\", \"content-type\": \"application/json\"}\n",
    "\n",
    "params = {\n",
    "    \"model_type\": 1,\n",
    "    \"model_class\": \"LinReg\",\n",
    "    \"model_name\": \"Default linear regression 1\",\n",
    "    \"train_features\": {\"x1\": [1, 0, 1, 0, 1, 0, 1, 0, 1], \"x2\": [1, 0, 3, 0, 5, 0, 7, 0, 9]},\n",
    "    \"train_target\": [1, 2, 3, 4, 5, 6, 7, 8, 9]\n",
    "}\n",
    "\n",
    "r = requests.post(f'{base_root}/create', headers=headers, data=json.dumps(params))\n",
    "print(r, r.text)"
   ]
  },
  {
   "cell_type": "code",
   "execution_count": 49,
   "metadata": {},
   "outputs": [
    {
     "name": "stdout",
     "output_type": "stream",
     "text": [
      "<Response [200]> [\n",
      "  \"Default linear regression 1\"\n",
      "]\n",
      "\n"
     ]
    }
   ],
   "source": [
    "# Проверяем вывод всех обученных моделей\n",
    "import requests\n",
    "\n",
    "base_root = 'http://127.0.0.1:5000/'\n",
    "headers = {\"accept\": \"application/json\"}\n",
    "\n",
    "# Запрос для получения списка моделей\n",
    "response = requests.get(f'{base_root}/models', headers=headers)\n",
    "print(response, response.text)"
   ]
  },
  {
   "cell_type": "code",
   "execution_count": 52,
   "metadata": {},
   "outputs": [
    {
     "name": "stdout",
     "output_type": "stream",
     "text": [
      "<Response [200]> {\n",
      "  \"message\": \"Model Default linear regression 2 successfully deleted.\"\n",
      "}\n",
      "\n"
     ]
    }
   ],
   "source": [
    "# Проверяем удаление модели\n",
    "import json\n",
    "import requests\n",
    "\n",
    "base_root = 'http://127.0.0.1:5000/'\n",
    "headers = {\"accept\": \"application/json\", \"content-type\": \"application/json\"}\n",
    "\n",
    "params = {\"model_name\" : \"Default linear regression 2\"}\n",
    "r = requests.delete(f'{base_root}/delete', headers=headers, data = json.dumps(params))\n",
    "print(r, r.text)"
   ]
  },
  {
   "cell_type": "code",
   "execution_count": null,
   "metadata": {},
   "outputs": [],
   "source": []
  }
 ],
 "metadata": {
  "kernelspec": {
   "display_name": "mlops",
   "language": "python",
   "name": "python3"
  },
  "language_info": {
   "codemirror_mode": {
    "name": "ipython",
    "version": 3
   },
   "file_extension": ".py",
   "mimetype": "text/x-python",
   "name": "python",
   "nbconvert_exporter": "python",
   "pygments_lexer": "ipython3",
   "version": "3.9.18"
  }
 },
 "nbformat": 4,
 "nbformat_minor": 2
}
